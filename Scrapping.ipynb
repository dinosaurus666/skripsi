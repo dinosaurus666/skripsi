{
 "cells": [
  {
   "cell_type": "code",
   "execution_count": 4,
   "id": "ed5a7080",
   "metadata": {},
   "outputs": [],
   "source": [
    "import time\n",
    "import pandas as pd\n",
    "from selenium import webdriver"
   ]
  },
  {
   "cell_type": "code",
   "execution_count": 3,
   "id": "f8934b12",
   "metadata": {},
   "outputs": [
    {
     "name": "stdout",
     "output_type": "stream",
     "text": [
      "Collecting pandas\n",
      "  Downloading pandas-1.4.3-cp310-cp310-win_amd64.whl (10.5 MB)\n",
      "     -------------------------------------- 10.5/10.5 MB 604.8 kB/s eta 0:00:00\n",
      "Collecting numpy>=1.21.0\n",
      "  Downloading numpy-1.23.1-cp310-cp310-win_amd64.whl (14.6 MB)\n",
      "     -------------------------------------- 14.6/14.6 MB 590.6 kB/s eta 0:00:00\n",
      "Requirement already satisfied: pytz>=2020.1 in c:\\users\\aldi\\appdata\\local\\programs\\python\\python310\\lib\\site-packages (from pandas) (2022.1)\n",
      "Requirement already satisfied: python-dateutil>=2.8.1 in c:\\users\\aldi\\appdata\\local\\programs\\python\\python310\\lib\\site-packages (from pandas) (2.8.2)\n",
      "Requirement already satisfied: six>=1.5 in c:\\users\\aldi\\appdata\\local\\programs\\python\\python310\\lib\\site-packages (from python-dateutil>=2.8.1->pandas) (1.16.0)\n",
      "Installing collected packages: numpy, pandas\n",
      "Successfully installed numpy-1.23.1 pandas-1.4.3\n",
      "Collecting selenium\n",
      "  Downloading selenium-4.3.0-py3-none-any.whl (981 kB)\n",
      "     ------------------------------------ 981.4/981.4 kB 641.0 kB/s eta 0:00:00\n",
      "Collecting trio-websocket~=0.9\n",
      "  Downloading trio_websocket-0.9.2-py3-none-any.whl (16 kB)\n",
      "Collecting trio~=0.17\n",
      "  Downloading trio-0.21.0-py3-none-any.whl (358 kB)\n",
      "     ------------------------------------ 359.0/359.0 kB 697.5 kB/s eta 0:00:00\n",
      "Requirement already satisfied: urllib3[secure,socks]~=1.26 in c:\\users\\aldi\\appdata\\local\\programs\\python\\python310\\lib\\site-packages (from selenium) (1.26.11)\n",
      "Collecting outcome\n",
      "  Downloading outcome-1.2.0-py2.py3-none-any.whl (9.7 kB)\n",
      "Requirement already satisfied: idna in c:\\users\\aldi\\appdata\\local\\programs\\python\\python310\\lib\\site-packages (from trio~=0.17->selenium) (3.3)\n",
      "Requirement already satisfied: cffi>=1.14 in c:\\users\\aldi\\appdata\\local\\programs\\python\\python310\\lib\\site-packages (from trio~=0.17->selenium) (1.15.1)\n",
      "Requirement already satisfied: attrs>=19.2.0 in c:\\users\\aldi\\appdata\\local\\programs\\python\\python310\\lib\\site-packages (from trio~=0.17->selenium) (22.1.0)\n",
      "Collecting sortedcontainers\n",
      "  Downloading sortedcontainers-2.4.0-py2.py3-none-any.whl (29 kB)\n",
      "Requirement already satisfied: sniffio in c:\\users\\aldi\\appdata\\local\\programs\\python\\python310\\lib\\site-packages (from trio~=0.17->selenium) (1.2.0)\n",
      "Collecting async-generator>=1.9\n",
      "  Downloading async_generator-1.10-py3-none-any.whl (18 kB)\n",
      "Collecting wsproto>=0.14\n",
      "  Downloading wsproto-1.1.0-py3-none-any.whl (24 kB)\n",
      "Collecting PySocks!=1.5.7,<2.0,>=1.5.6\n",
      "  Downloading PySocks-1.7.1-py3-none-any.whl (16 kB)\n",
      "Collecting pyOpenSSL>=0.14\n",
      "  Downloading pyOpenSSL-22.0.0-py2.py3-none-any.whl (55 kB)\n",
      "     -------------------------------------- 55.8/55.8 kB 970.1 kB/s eta 0:00:00\n",
      "Collecting cryptography>=1.3.4\n",
      "  Downloading cryptography-37.0.4-cp36-abi3-win_amd64.whl (2.4 MB)\n",
      "     ---------------------------------------- 2.4/2.4 MB 619.9 kB/s eta 0:00:00\n",
      "Requirement already satisfied: certifi in c:\\users\\aldi\\appdata\\local\\programs\\python\\python310\\lib\\site-packages (from urllib3[secure,socks]~=1.26->selenium) (2022.6.15)\n",
      "Requirement already satisfied: pycparser in c:\\users\\aldi\\appdata\\local\\programs\\python\\python310\\lib\\site-packages (from cffi>=1.14->trio~=0.17->selenium) (2.21)\n",
      "Collecting h11<1,>=0.9.0\n",
      "  Downloading h11-0.13.0-py3-none-any.whl (58 kB)\n",
      "     -------------------------------------- 58.2/58.2 kB 772.8 kB/s eta 0:00:00\n",
      "Installing collected packages: sortedcontainers, PySocks, outcome, h11, async-generator, wsproto, trio, cryptography, trio-websocket, pyOpenSSL, selenium\n",
      "Successfully installed PySocks-1.7.1 async-generator-1.10 cryptography-37.0.4 h11-0.13.0 outcome-1.2.0 pyOpenSSL-22.0.0 selenium-4.3.0 sortedcontainers-2.4.0 trio-0.21.0 trio-websocket-0.9.2 wsproto-1.1.0\n"
     ]
    }
   ],
   "source": [
    "!pip install pandas\n",
    "!pip install selenium"
   ]
  },
  {
   "cell_type": "code",
   "execution_count": 12,
   "id": "e7572ae2",
   "metadata": {},
   "outputs": [
    {
     "name": "stderr",
     "output_type": "stream",
     "text": [
      "C:\\Users\\aldi\\AppData\\Local\\Temp\\ipykernel_2452\\238697764.py:1: DeprecationWarning: executable_path has been deprecated, please pass in a Service object\n",
      "  driver=webdriver.Chrome(r'C:\\Program Files\\Google\\Chrome\\Application\\chromedriver.exe') #(Letakkan 'chromedriver.exe' ke folder yang udah ditetapkan ini)\n"
     ]
    }
   ],
   "source": [
    "driver=webdriver.Chrome(r'C:\\Program Files\\Google\\Chrome\\Application\\chromedriver.exe') #(Letakkan 'chromedriver.exe' ke folder yang udah ditetapkan ini)\n",
    "driver.get('https://www.youtube.com/watch?v=xQPeCTtAewc')\n",
    "driver.execute_script('window.scrollTo(1, 500);')\n",
    "#now wait let load the comments\n",
    "time.sleep(10) \n",
    "driver.execute_script('window.scrollTo(1,3000);')\n",
    "commentar_youtube=[]\n",
    "comment_div=driver.find_element(\"xpath\",'//*[@id=\"contents\"]')\n",
    "comments=comment_div.find_elements(\"xpath\",'//*[@id=\"content-text\"]')\n",
    "for comment in comments:\n",
    "    commentar_youtube.append(comment.text)"
   ]
  },
  {
   "cell_type": "code",
   "execution_count": 13,
   "id": "ce589eff",
   "metadata": {},
   "outputs": [
    {
     "name": "stdout",
     "output_type": "stream",
     "text": [
      "                                             Komentar\n",
      "0   Dok saya uda di vaksin Aztraveneca untung aman...\n",
      "1   Astrazeneca di iktiraf di 100 buah negara di d...\n",
      "2   Terimakasih pak dokter, sdh memberikan informa...\n",
      "3   Mantap dokter penjelasannya sangat membantu di...\n",
      "4   dok harusnya orang yang daya tahan tubuhnya le...\n",
      "5   Maaf dok..hanya ingin membagi pengalaman priba...\n",
      "6                       Terima kasih edukasinya Dok! \n",
      "7   Hai Dok, mau nanya kalau pada saat setiap terl...\n",
      "8   3 hari lalu saya vaksin astrazeneca. Efek pali...\n",
      "9   Astrazeneca cocok buat bule krn pengujian tesn...\n",
      "10  Dok apakah Vaksin Nusantara (Immunotrapi) bisa...\n",
      "11  Pagi Dok. Tolong tanya, untuk meminimalisir ef...\n",
      "12  Apapun yg terjadi di dlm dunia jika benar toh ...\n",
      "13  Kalo untuk efek jangka panjangnya gimana dok? ...\n",
      "14  Alhamdulillah dok saya vaksin pertama astrazen...\n",
      "15  Dokter pinter selalu utamakan keamanan dn teli...\n",
      "16  Penjelasan krg baik.. Krg tegas & lugas..\\nHrs...\n",
      "17  Saya baru 2 hari vaksin astra dan tidak mengal...\n",
      "18  Isu biasa persaingan bisnis  jadi saling menja...\n",
      "19           Perkongsian yg bermanafaat..terima kasih\n",
      "20  Dok, apakah ada hubungan antara HB tinggi dgn ...\n",
      "21  Hallo dok. Sy busui selama hamil ada riwayat p...\n",
      "22  Dok, klw pengidap myelitis transverse boleh ga...\n",
      "23  Terima kasih infonya  Dok\\nHari ini  4 Juli sa...\n",
      "24  Sudah genap 8 hari pasca vaksin AZ, alhamdulil...\n",
      "25  apakah astrazeneca aman untuk orang pengidap e...\n",
      "26  Halo Dokter ...\\nSaya vaksin dosis pertama Pfi...\n",
      "27  Dok saya sudah seminggu di vaksin astrazaneca,...\n",
      "28                  Terima kasih Dokter informasinya.\n",
      "29    Mantap nih dokter, pernyataannya sangat netral \n",
      "30  Selamat siang dok, mohon maaf mengganggu waktu...\n",
      "31                Mantap dokter jujur , God bless you\n",
      "32  dok,  apa  bahayanya  jika  pemberian vacin  d...\n",
      "33  Saya udah dpt dosis 2 AZ hari Kamis, tapi samp...\n",
      "34                                   Terimakasih dok \n",
      "35  Maaf dok mau tanya. Saya tgl 4 habis vaksin As...\n",
      "36  kalau tetap ada efek samping sama ja itu juga ...\n",
      "37  Semua komen dan pertanyaan netizen dijawab loh...\n",
      "38  Semua bilang vaksin A baik, vaksin B baik; tap...\n",
      "39  Dok, mau tanya\\nKalau ada orang yang sdh menda...\n"
     ]
    }
   ],
   "source": [
    "commentar_dict = {'Komentar':commentar_youtube}\n",
    "commentar_youtube_df = pd.DataFrame(commentar_dict)\n",
    "print(commentar_youtube_df)"
   ]
  },
  {
   "cell_type": "code",
   "execution_count": 14,
   "id": "6b516a74",
   "metadata": {},
   "outputs": [],
   "source": [
    "commentar_youtube_df.to_csv(r'Komentar_Youtube(test2).csv',mode='a',header=False)"
   ]
  },
  {
   "cell_type": "code",
   "execution_count": null,
   "id": "7c7d05cb",
   "metadata": {},
   "outputs": [],
   "source": []
  }
 ],
 "metadata": {
  "kernelspec": {
   "display_name": "Python 3 (ipykernel)",
   "language": "python",
   "name": "python3"
  },
  "language_info": {
   "codemirror_mode": {
    "name": "ipython",
    "version": 3
   },
   "file_extension": ".py",
   "mimetype": "text/x-python",
   "name": "python",
   "nbconvert_exporter": "python",
   "pygments_lexer": "ipython3",
   "version": "3.10.6"
  }
 },
 "nbformat": 4,
 "nbformat_minor": 5
}
